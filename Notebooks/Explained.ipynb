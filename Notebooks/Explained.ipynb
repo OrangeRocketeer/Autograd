{
 "cells": [
  {
   "metadata": {},
   "cell_type": "markdown",
   "source": "# **Automatic Differentiation Engine**",
   "id": "9228788bf111dc48"
  },
  {
   "metadata": {},
   "cell_type": "markdown",
   "source": [
    "*Ayush Singh ,B.Tech Mathematics and Computing @ IIT Mandi*\n",
    "<u>ayush.rocketeer@gmail.com</u>"
   ],
   "id": "abf70b455d06a094"
  },
  {
   "metadata": {
    "ExecuteTime": {
     "end_time": "2025-10-05T11:08:28.212344Z",
     "start_time": "2025-10-05T11:08:27.570999Z"
    }
   },
   "cell_type": "code",
   "source": [
    "!pip install -r requirements.txt\n",
    "# you can run benchmarks via micrograd in the benchmark notebook"
   ],
   "id": "a3387dc6ade3c717",
   "outputs": [],
   "execution_count": 284
  },
  {
   "metadata": {
    "ExecuteTime": {
     "end_time": "2025-10-05T11:08:28.225978Z",
     "start_time": "2025-10-05T11:08:28.221113Z"
    }
   },
   "cell_type": "code",
   "source": [
    "import math\n",
    "# used for exponential and tanh operations\n",
    "from graphviz import Digraph\n",
    "# used for visualizing the computational graph\n"
   ],
   "id": "dd225b14cf2eaa5f",
   "outputs": [],
   "execution_count": 285
  },
  {
   "metadata": {},
   "cell_type": "markdown",
   "source": [
    "---\n",
    "## **Computational Graph**"
   ],
   "id": "b1ddc8a784e8cc41"
  },
  {
   "metadata": {},
   "cell_type": "markdown",
   "source": [
    "# Primitive Operations in Our Computational Graph\n",
    "\n",
    "Our computational graph supports the following **primitive operations**, which can be used as building blocks in a network for computation:\n",
    "\n",
    "- **Addition** (`+`)\n",
    "- **Subtraction** (`-`)\n",
    "- **Multiplication** (`*`)\n",
    "- **Division** (`/`)\n",
    "- **Exponentiation** (to any positive base)\n",
    "- **Hyperbolic tangent** (`tanh`)\n"
   ],
   "id": "7b23bc850cf8797e"
  },
  {
   "metadata": {
    "ExecuteTime": {
     "end_time": "2025-10-05T11:08:28.285697Z",
     "start_time": "2025-10-05T11:08:28.272812Z"
    }
   },
   "cell_type": "code",
   "source": [
    "class ValueNode():\n",
    "    def __init__(self, value,  prev = (), op = '', label = ''):\n",
    "        self.value = value\n",
    "        self.prev = set(prev)               # saving parents\n",
    "        self.op = op                        # visualization help\n",
    "        self.label = label                  # for graphviz visualization\n",
    "        self.grad = 0.0                     # numeric gradient that back propagates\n",
    "        self._backward = lambda : None      # this backward defines the local derivative function\n",
    "\n",
    "    def __repr__(self):                     # represent function to handle debugging, etc\n",
    "        return f'Value: {self.value}'\n",
    "\n",
    "    def __add__(self, other):               # operator overloading to allow shorthands and numpy style operations\n",
    "        other = other if isinstance(other, ValueNode) else ValueNode(other)\n",
    "        out =  ValueNode(self.value+other.value, (self, other), '+')\n",
    "        def _backward():\n",
    "            self.grad += 1.0 * out.grad     # see note below to understand how local derivative and upstream derivative is used to compute gradient\n",
    "            other.grad += out.grad * 1.0\n",
    "        out._backward = _backward           # setting backward for child\n",
    "        return out\n",
    "\n",
    "    def __radd__(self, other):     # reverse add\n",
    "        return self + other        # this handles the case of returning a node if self itself is not a node, allows us to do 2+a\n",
    "\n",
    "    def __sub__(self, other):\n",
    "        other = other if isinstance(other, ValueNode) else ValueNode(other)\n",
    "        out = ValueNode(self.value-other.value, (self, other), '-')\n",
    "        def _backward():\n",
    "            self.grad += 1.0 * out.grad\n",
    "            other.grad += out.grad * (-1.0)\n",
    "        out._backward = _backward\n",
    "        return out\n",
    "\n",
    "    def __rsub__(self, other):\n",
    "        other = other if isinstance(other, ValueNode) else ValueNode(other)\n",
    "        return other - self\n",
    "\n",
    "\n",
    "    def __mul__(self, other):\n",
    "        other = other if isinstance(other, ValueNode) else ValueNode(other)\n",
    "        out = ValueNode(self.value*other.value, (self, other), '*')\n",
    "        def _backward():\n",
    "            self.grad += out.grad * other.value\n",
    "            other.grad += self.value * out.grad\n",
    "        out._backward = _backward\n",
    "        return out\n",
    "\n",
    "    def __rmul__(self, other):\n",
    "        return self * other\n",
    "\n",
    "    def __truediv__(self, other):\n",
    "        other = other if isinstance(other, ValueNode) else ValueNode(other)\n",
    "        out = ValueNode(self.value / other.value, (self, other), '/')\n",
    "        def _backward():\n",
    "            self.grad += out.grad * (1 / other.value)\n",
    "            other.grad += out.grad * (-self.value / other.value**2)\n",
    "        out._backward = _backward\n",
    "        return out\n",
    "\n",
    "    def __rtruediv__(self, other):\n",
    "        other = other if isinstance(other, ValueNode) else ValueNode(other)\n",
    "        return other / self\n",
    "\n",
    "\n",
    "    def tanh(self):\n",
    "        out = ValueNode(math.tanh(self.value), (self,), 'tanh')\n",
    "        def _backward():\n",
    "            self.grad += out.grad * (1 - (math.tanh(self.value)**2))\n",
    "        out._backward = _backward\n",
    "        return out\n",
    "\n",
    "    def __pow__(self, other):\n",
    "        assert isinstance(other, (int, float)), \"only supporting int/float powers for now\"         # limited non interger, non float powers\n",
    "        out = ValueNode(self.value**other, (self,), f'**{other}')\n",
    "\n",
    "        def _backward():\n",
    "            self.grad += other * (self.value ** (other - 1)) * out.grad\n",
    "        out._backward = _backward\n",
    "\n",
    "        return out\n",
    "\n",
    "    def __neg__(self):                          # utility allowing us to do -a instead of -1*a\n",
    "        return self * -1\n",
    "\n",
    "    def relu(self):                            # Rectified Linear Unit activation function\n",
    "        out = ValueNode(0 if self.value < 0 else self.value, (self,), 'ReLU')\n",
    "        def _backward():\n",
    "            self.grad += (out.value > 0) * out.grad\n",
    "        out._backward = _backward\n",
    "        return out\n",
    "\n",
    "\n",
    "    def backward(self):                       # Universal backward, that does backward pass on a graph\n",
    "        topo = []\n",
    "        visited = set()\n",
    "        def build_topo(v):                    # topological sort used to compute all child gradients before computing parent gradient\n",
    "          if v not in visited:                # topological sort and its need (total derivative rule) is explained below\n",
    "            visited.add(v)\n",
    "            for child in v.prev:\n",
    "              build_topo(child)\n",
    "            topo.append(v)\n",
    "        build_topo(self)\n",
    "\n",
    "        self.grad = 1.0                      # initialize ∂L/∂L = 1 where L is the final (Loss) node\n",
    "        for node in reversed(topo):\n",
    "          node._backward()\n"
   ],
   "id": "157024aebcd64173",
   "outputs": [],
   "execution_count": 286
  },
  {
   "metadata": {},
   "cell_type": "markdown",
   "source": [
    "# **Mini Autograd Engine: Gradient Flow (General)**\n",
    "\n",
    "Let `x, y` be inputs, `f` an intermediate node, and `Loss` the final output. Each node stores `.grad` which accumulates:\n",
    "\n",
    "$$\n",
    "x.\\text{grad} = \\frac{\\partial \\text{Loss}}{\\partial x}, \\quad\n",
    "y.\\text{grad} = \\frac{\\partial \\text{Loss}}{\\partial y}\n",
    "$$\n",
    "\n",
    "---\n",
    "\n",
    "## Chain Rule at Each Node\n",
    "\n",
    "Each node only knows **how it depends on its immediate inputs**. Let `out` be the output of an operation `f(x, y)`. Then the local `_backward()` computes:\n",
    "\n",
    "$$\n",
    "x.\\text{grad} \\space \\text{+=} \\space \\frac{\\partial f}{\\partial x} \\cdot \\text{out.grad}\n",
    "$$\n",
    "\n",
    "$$\n",
    "y.\\text{grad} \\space \\text{+=} \\space \\frac{\\partial f}{\\partial y} \\cdot \\text{out.grad}\n",
    "$$\n",
    "\n",
    "Here:\n",
    "\n",
    "- `out.grad` = upstream gradient = $\\frac{\\partial \\text{Loss}}{\\partial f}$\n",
    "- `∂f/∂x` and `∂f/∂y` = **local derivatives** of this operation\n",
    "\n",
    "---\n",
    "\n",
    "### Notes\n",
    "\n",
    "- Each `_backward()` is **local**, only using its inputs and `out.grad`.\n",
    "- `.grad` values **accumulate contributions** if multiple downstream paths reach the same node.\n",
    "- The final gradient w.r.t any input emerges from repeated application of this rule **through the whole graph**.\n",
    "- += is used instead of = to allow for multiple influence paths along variables and not overwrite such updates\n",
    "\n",
    "---\n",
    "\n",
    "# **Topological Sort for Backpropagation**\n",
    "\n",
    "When implementing **backpropagation** in a computational graph, the key idea is that the output of some nodes depends on other nodes. To correctly propagate gradients, we must process nodes in an order that respects these dependencies — i.e., **topological order**.\n",
    "\n",
    "---\n",
    "\n",
    "## 1. Total Derivative Rule\n",
    "\n",
    "If a function $f$ depends on intermediate variables $$u_1, u_2, ..., u_n$$, which in turn depend on $$x$$, the derivative of $$f$$ with respect to $$x$$ is:\n",
    "\n",
    "$$\n",
    "\\frac{\\partial f}{\\partial x} = \\sum_i \\frac{\\partial f}{\\partial u_i} \\frac{\\partial u_i}{\\partial x}\n",
    "$$\n",
    "\n",
    "This is the **chain rule in its general form** — sometimes called the **total derivative rule**.\n",
    "\n",
    "**Example:**\n",
    "\n",
    "If $$f = g(u, v)$$ with $$u = u(x), v = v(x)$$:\n",
    "\n",
    "$$\n",
    "\\frac{df}{dx} = \\frac{\\partial f}{\\partial u} \\frac{du}{dx} + \\frac{\\partial f}{\\partial v} \\frac{dv}{dx}\n",
    "$$\n",
    "\n",
    "---\n",
    "\n",
    "## 2. Backpropagation via Topological Sort\n",
    "\n",
    "Consider a **computational graph**:\n",
    "\n",
    "- Nodes = operations (e.g., addition, multiplication, activation)\n",
    "- Edges = dependencies (inputs → outputs)\n",
    "\n",
    "**Steps:**\n",
    "\n",
    "1. **Forward pass:** Compute all node values in any **topological order** (inputs first, outputs last).\n",
    "2. **Initialize gradients:** Set gradient of final output node $$f$$ w.r.t itself as 1:\n",
    "\n",
    "$$\n",
    "\\frac{\\partial f}{\\partial f} = 1\n",
    "$$\n",
    "\n",
    "3. **Backward pass:** Traverse nodes in **reverse topological order**, applying the total derivative rule:\n",
    "\n",
    "$$\n",
    "\\text{For node } x: \\quad \\frac{\\partial f}{\\partial x} = \\sum_{\\text{children } u} \\frac{\\partial f}{\\partial u} \\frac{\\partial u}{\\partial x}\n",
    "$$\n",
    "\n",
    "- Each node accumulates contributions from all nodes that directly depend on it.\n",
    "- This is exactly the general chain rule in action.\n",
    "\n",
    "---\n",
    "\n",
    "### Key Insights\n",
    "\n",
    "1. **Topological order ensures no node is processed before all its dependencies are ready.**\n",
    "2. **Reverse topological traversal naturally implements backpropagation.**\n",
    "3. **The sum in the total derivative rule is exactly how contributions from multiple paths are handled.**\n",
    "4. This framework generalizes to any **DAG-based computation**, not just neural networks.\n",
    "\n",
    "---\n",
    "\n",
    "<div class=\"alert alert-block alert-success\">\n",
    "<b>Takeaway : backpropagation is just the chain rule applied efficiently over a DAG</b>, and topological sort guarantees we never try to compute a gradient before its dependencies are known.\n",
    "</div>\n",
    "\n",
    "\n"
   ],
   "id": "6dd05900cb5d5605"
  },
  {
   "metadata": {},
   "cell_type": "markdown",
   "source": "## **Graph Visualisation**",
   "id": "455a88a6b3d86e8f"
  },
  {
   "metadata": {
    "ExecuteTime": {
     "end_time": "2025-10-05T11:08:28.342517Z",
     "start_time": "2025-10-05T11:08:28.333688Z"
    }
   },
   "cell_type": "code",
   "source": [
    "# Adapted from Andrej Karpathy's GitHub Notes to visualise the computational graph via graphviz API\n",
    "# source https://github.com/karpathy/nn-zero-to-hero/blob/master/lectures/micrograd/micrograd_lecture_first_half_roughly.ipynb\n",
    "\n",
    "def trace(root):\n",
    "  # builds a set of all nodes and edges in a graph\n",
    "  nodes, edges = set(), set()\n",
    "  def build(v):\n",
    "    if v not in nodes:\n",
    "      nodes.add(v)\n",
    "      for child in v.prev:\n",
    "        edges.add((child, v))\n",
    "        build(child)\n",
    "  build(root)\n",
    "  return nodes, edges\n",
    "\n",
    "def draw_dot(root):\n",
    "  dot = Digraph(format='svg', graph_attr={'rankdir': 'LR'}) # LR = left to right\n",
    "\n",
    "  nodes, edges = trace(root)\n",
    "  for n in nodes:\n",
    "    uid = str(id(n))\n",
    "    # for any value in the graph, create a rectangular ('record') node for it\n",
    "    dot.node(name = uid, label = \"{ %s | value %.4f | grad %.4f }\" % (n.label, n.value, n.grad), shape='record')\n",
    "    if n.op:\n",
    "      # if this value is a result of some operation, create an op node for it\n",
    "      dot.node(name = uid + n.op, label = n.op)\n",
    "      # and connect this node to it\n",
    "      dot.edge(uid + n.op, uid)\n",
    "\n",
    "  for n1, n2 in edges:\n",
    "    # connect n1 to the op node of n2\n",
    "    dot.edge(str(id(n1)), str(id(n2)) + n2.op)\n",
    "\n",
    "  return dot"
   ],
   "id": "e3b510459567fec0",
   "outputs": [],
   "execution_count": 287
  },
  {
   "metadata": {},
   "cell_type": "markdown",
   "source": [
    "## **Neurons and the MLP**\n",
    "\"*The Solution to Everything*\" - People in the 1950s"
   ],
   "id": "75bd1e10b6ef22c0"
  },
  {
   "metadata": {
    "ExecuteTime": {
     "end_time": "2025-10-05T11:08:28.392919Z",
     "start_time": "2025-10-05T11:08:28.388276Z"
    }
   },
   "cell_type": "code",
   "source": [
    "class Module:                   # abstract class from which Neuron, Layer and MLP inherit\n",
    "    def zero_grad(self):        # for training, to prevent accumulation\n",
    "        for param in self.parameters():\n",
    "            param.grad = 0\n",
    "\n",
    "    def parameters(self):      # list out all the weights in a neuron, layer or MLP\n",
    "        return []"
   ],
   "id": "5f2215b9278278de",
   "outputs": [],
   "execution_count": 288
  },
  {
   "metadata": {
    "ExecuteTime": {
     "end_time": "2025-10-05T11:08:28.439942Z",
     "start_time": "2025-10-05T11:08:28.436946Z"
    }
   },
   "cell_type": "code",
   "source": [
    "class Neuron(Module):\n",
    "    def __init__(self, n_inputs, activate = True):                                          # initialize a n->1 neuron\n",
    "        self.w = [ValueNode(np.random.uniform(-1,1)) for _ in range(n_inputs)]\n",
    "        self.b = ValueNode(np.random.uniform(-1,1))\n",
    "        self.activate = activate                                                            # this can have linear output as well, but if nonlinear by default\n",
    "\n",
    "    def __call__(self, x):\n",
    "        z = sum((w*x for w,x in zip(self.w, x)), self.b)                                    # computing output\n",
    "        return z.relu() if self.activate else z                                             # reLU default activation function\n",
    "\n",
    "    def parameters(self):\n",
    "        return self.w + [self.b]\n",
    "\n",
    "    def __repr__(self):                                                                    # representation of the neuron\n",
    "        return f\"{'ReLU' if self.activate else 'Linear'}Neuron({len(self.w)})\"\n"
   ],
   "id": "bf0cfaba5b1a11eb",
   "outputs": [],
   "execution_count": 289
  },
  {
   "metadata": {
    "ExecuteTime": {
     "end_time": "2025-10-05T11:08:28.487672Z",
     "start_time": "2025-10-05T11:08:28.484021Z"
    }
   },
   "cell_type": "code",
   "source": [
    "class Layer(Module):\n",
    "    def __init__(self, n_inputs, n_outputs, **kwargs):                                    # **kwargs to specify if linearity is needed\n",
    "        self.neurons = [Neuron(n_inputs, **kwargs) for _ in range(n_outputs)]             # n_outputs neurons each with n_inputs inputs\n",
    "    def __call__(self, x):\n",
    "        outputs = [neuron(x) for neuron in self.neurons]\n",
    "        return outputs[0] if len(outputs) == 1 else outputs\n",
    "    def parameters(self):\n",
    "        params = []\n",
    "        for neuron in self.neurons:\n",
    "            params.extend(neuron.parameters())                                           # appending in order the parameters of each neuron\n",
    "        return params\n",
    "    def __repr__(self):\n",
    "        return f\"Layer of [{', '.join(str(n) for n in self.neurons)}]\""
   ],
   "id": "e570a0cba0c15435",
   "outputs": [],
   "execution_count": 290
  },
  {
   "metadata": {
    "ExecuteTime": {
     "end_time": "2025-10-05T11:08:28.545303Z",
     "start_time": "2025-10-05T11:08:28.534854Z"
    }
   },
   "cell_type": "code",
   "source": [
    "class MLP(Module):\n",
    "    def __init__(self, n_inputs, n_outputs):                                                            # n_inputs here is a list of layer widths\n",
    "        neuron_list = [n_inputs] + n_outputs\n",
    "        self.layers = [Layer(neuron_list[i], neuron_list[i+1], activate=i!=len(n_outputs)-1) for i in range(len(n_outputs))]   # creating a list of layers with linear output for last layer\n",
    "\n",
    "    def __call__(self, x):\n",
    "        for layer in self.layers:                                                                       # evaluation the output of the MLP\n",
    "            x = layer(x)\n",
    "        return x\n",
    "\n",
    "    def parameters(self):\n",
    "        params = []\n",
    "        for layer in self.layers:\n",
    "            params.extend(layer.parameters())\n",
    "        return params\n",
    "\n",
    "    def __repr__(self):\n",
    "        return f\"MLP of [{', '.join(str(layer) for layer in self.layers)}]\"\n",
    "\n",
    "    def train(self, loss, epochs, schedule = True, batch_size = None):                                  # Training with Minibatch GD capabilities, loss is loss function\n",
    "        for epoch in range(epochs):\n",
    "            total_loss, accuracy = loss(batch_size)                                                     # forward pass\n",
    "            self.zero_grad()                                                                            # zeroing out gradients\n",
    "            total_loss.backward()\n",
    "            learning_rate = (1 - 0.9*epoch/100) if schedule else 0.03                                   # learning schedule to decay learning rate\n",
    "            for parameter in self.parameters():\n",
    "                parameter.value -= learning_rate * parameter.grad                                       # parameter update\n",
    "            print(f'Epoch {epoch+1}/{epochs}, Loss: {total_loss.value:.5f}, Accuracy: {accuracy*100:.2f}%')"
   ],
   "id": "7cf9c7bed33ac1a3",
   "outputs": [],
   "execution_count": 291
  },
  {
   "metadata": {},
   "cell_type": "markdown",
   "source": [
    "---\n",
    "# **Examples and Demonstration**"
   ],
   "id": "aae15c2ae8fcc1de"
  },
  {
   "metadata": {},
   "cell_type": "markdown",
   "source": "### Graph Visualization",
   "id": "9bd6086adbb57556"
  },
  {
   "metadata": {
    "ExecuteTime": {
     "end_time": "2025-10-05T11:08:28.601342Z",
     "start_time": "2025-10-05T11:08:28.595184Z"
    }
   },
   "cell_type": "code",
   "source": [
    "\"\"\"\n",
    "a = ValueNode(1)\n",
    "b = ValueNode(2)\n",
    "c = a*b\n",
    "d = a/c\n",
    "e = a+b+c/d\n",
    "draw_dot(e)\n",
    "\"\"\"\n",
    "# Commented to export to PDF"
   ],
   "id": "7d1e7e99256f3d70",
   "outputs": [
    {
     "data": {
      "text/plain": [
       "'\\na = ValueNode(1)\\nb = ValueNode(2)\\nc = a*b\\nd = a/c\\ne = a+b+c/d\\ndraw_dot(e)\\n'"
      ]
     },
     "execution_count": 292,
     "metadata": {},
     "output_type": "execute_result"
    }
   ],
   "execution_count": 292
  },
  {
   "metadata": {},
   "cell_type": "markdown",
   "source": "### Gradient Calculation",
   "id": "d2ec9e204e63606d"
  },
  {
   "metadata": {
    "ExecuteTime": {
     "end_time": "2025-10-05T11:08:28.665244Z",
     "start_time": "2025-10-05T11:08:28.659126Z"
    }
   },
   "cell_type": "code",
   "source": [
    "\"\"\"\n",
    "e.backward()\n",
    "draw_dot(e)\n",
    "\"\"\"\n",
    "# Commented to export to PDF"
   ],
   "id": "7fda60f4b2c58c59",
   "outputs": [
    {
     "data": {
      "text/plain": [
       "'\\ne.backward()\\ndraw_dot(e)\\n'"
      ]
     },
     "execution_count": 293,
     "metadata": {},
     "output_type": "execute_result"
    }
   ],
   "execution_count": 293
  },
  {
   "metadata": {},
   "cell_type": "markdown",
   "source": "### Neuron, Layer and MLP Demonstration",
   "id": "b802a3522fdfd1b"
  },
  {
   "metadata": {
    "ExecuteTime": {
     "end_time": "2025-10-05T11:08:28.730290Z",
     "start_time": "2025-10-05T11:08:28.724183Z"
    }
   },
   "cell_type": "code",
   "source": [
    "x = [1,1]\n",
    "neuron = Neuron(2)            # neuron with 2 inputs and an output\n",
    "layer = Layer(2, 2)           # layer with two such neurones defined above\n",
    "perceptron = MLP(2,[4,4,1],)  # perceptron with 2 inputs, 2 hidden layers of 4 neurons and one final output\n",
    "\n",
    "print(neuron(x), layer(x), perceptron(x))"
   ],
   "id": "2a7544e9e306e409",
   "outputs": [
    {
     "name": "stdout",
     "output_type": "stream",
     "text": [
      "Value: 0.5504097989358798 [Value: 0.5025686837698333, Value: 0] Value: 0.5417098819503215\n"
     ]
    }
   ],
   "execution_count": 294
  },
  {
   "metadata": {
    "ExecuteTime": {
     "end_time": "2025-10-05T11:08:28.795511Z",
     "start_time": "2025-10-05T11:08:28.790427Z"
    }
   },
   "cell_type": "code",
   "source": "print([param.grad for param in layer.parameters()])      # viewing grads",
   "id": "3d342176b0a14970",
   "outputs": [
    {
     "name": "stdout",
     "output_type": "stream",
     "text": [
      "[0.0, 0.0, 0.0, 0.0, 0.0, 0.0]\n"
     ]
    }
   ],
   "execution_count": 295
  },
  {
   "metadata": {},
   "cell_type": "markdown",
   "source": "#### Make Moons Example",
   "id": "48f5b101d0b18947"
  },
  {
   "metadata": {
    "ExecuteTime": {
     "end_time": "2025-10-05T11:08:28.851017Z",
     "start_time": "2025-10-05T11:08:28.845216Z"
    }
   },
   "cell_type": "code",
   "source": "mlp = MLP(2,[16,16,1])                # Creating a Neural Net with 2,16,16,1 neurons (4 layers)",
   "id": "2bba29b48d487ae9",
   "outputs": [],
   "execution_count": 296
  },
  {
   "metadata": {
    "ExecuteTime": {
     "end_time": "2025-10-05T11:08:28.961088Z",
     "start_time": "2025-10-05T11:08:28.895608Z"
    }
   },
   "cell_type": "code",
   "source": [
    "import numpy as np\n",
    "import matplotlib.pyplot as plt\n",
    "\n",
    "# A synthetic moons dataset is created to match Karpathy's for benchmarking\n",
    "\n",
    "from sklearn.datasets import make_moons        # using scikit-learn's API to make the dataset\n",
    "X, y = make_moons(n_samples=100, noise=0.1)\n",
    "\n",
    "y = y*2 - 1                                 # make y be -1 or 1\n",
    "\n",
    "# visualize in 2D using matplotlib\n",
    "plt.figure(figsize=(5,5));\n",
    "plt.scatter(X[:,0], X[:,1], c=y, s=20, cmap='jet');"
   ],
   "id": "fa5d4deabec5fbcd",
   "outputs": [
    {
     "data": {
      "text/plain": [
       "<Figure size 500x500 with 1 Axes>"
      ],
      "image/png": "[encoded data removed]"
     },
     "metadata": {},
     "output_type": "display_data"
    }
   ],
   "execution_count": 297
  },
  {
   "metadata": {
    "ExecuteTime": {
     "end_time": "2025-10-05T11:08:29.052297Z",
     "start_time": "2025-10-05T11:08:28.981316Z"
    }
   },
   "cell_type": "code",
   "source": [
    "# loss function [reference from Andrej Karpathy's library to benchmark https://github.com/karpathy/micrograd/blob/master/demo.ipynb]\n",
    "def loss(batch_size=None):\n",
    "\n",
    "    # inline DataLoader :)\n",
    "    if batch_size is None:\n",
    "        Xb, yb = X, y\n",
    "    else:\n",
    "        ri = np.random.permutation(X.shape[0])[:batch_size]\n",
    "        Xb, yb = X[ri], y[ri]\n",
    "    inputs = [list(map(ValueNode, xrow)) for xrow in Xb]\n",
    "\n",
    "    # forward the model to get scores\n",
    "    scores = list(map(mlp, inputs))\n",
    "\n",
    "    # svm \"max-margin\" loss\n",
    "    losses = [(1 + -yi*scorei).relu() for yi, scorei in zip(yb, scores)]\n",
    "    total_loss = sum(losses) * (1.0 / len(losses))\n",
    "\n",
    "    # We dropped regularisation used by Karpathy to evaluate whether decision boundary overfits further in this case\n",
    "\n",
    "    # also get accuracy\n",
    "    accuracy = [(yi > 0) == (scorei.value > 0) for yi, scorei in zip(yb, scores)]\n",
    "    return total_loss, sum(accuracy) / len(accuracy)\n",
    "\n",
    "total_loss, acc = loss()\n",
    "print(total_loss, acc)"
   ],
   "id": "84ad6846979f70ad",
   "outputs": [
    {
     "name": "stdout",
     "output_type": "stream",
     "text": [
      "Value: 1.0694030252877538 0.5\n"
     ]
    }
   ],
   "execution_count": 298
  },
  {
   "metadata": {
    "ExecuteTime": {
     "end_time": "2025-10-05T11:09:03.833839Z",
     "start_time": "2025-10-05T11:08:29.134647Z"
    }
   },
   "cell_type": "code",
   "source": [
    "mlp.train(loss,50)\n",
    "# Train using loss function defined above, full gradient descent, a learning schedule, and 50 epochs\n"
   ],
   "id": "4b85c1998e63a004",
   "outputs": [
    {
     "name": "stdout",
     "output_type": "stream",
     "text": [
      "Epoch 1/50, Loss: 1.06940, Accuracy: 50.00%\n",
      "Epoch 2/50, Loss: 5.30569, Accuracy: 50.00%\n",
      "Epoch 3/50, Loss: 1.29020, Accuracy: 50.00%\n",
      "Epoch 4/50, Loss: 0.53764, Accuracy: 78.00%\n",
      "Epoch 5/50, Loss: 0.49592, Accuracy: 83.00%\n",
      "Epoch 6/50, Loss: 0.35674, Accuracy: 84.00%\n",
      "Epoch 7/50, Loss: 0.27127, Accuracy: 86.00%\n",
      "Epoch 8/50, Loss: 0.23547, Accuracy: 88.00%\n",
      "Epoch 9/50, Loss: 0.22299, Accuracy: 90.00%\n",
      "Epoch 10/50, Loss: 0.25094, Accuracy: 87.00%\n",
      "Epoch 11/50, Loss: 0.18056, Accuracy: 91.00%\n",
      "Epoch 12/50, Loss: 0.16738, Accuracy: 93.00%\n",
      "Epoch 13/50, Loss: 0.21138, Accuracy: 91.00%\n",
      "Epoch 14/50, Loss: 0.20003, Accuracy: 92.00%\n",
      "Epoch 15/50, Loss: 0.13473, Accuracy: 93.00%\n",
      "Epoch 16/50, Loss: 0.10388, Accuracy: 94.00%\n",
      "Epoch 17/50, Loss: 0.09469, Accuracy: 98.00%\n",
      "Epoch 18/50, Loss: 0.12102, Accuracy: 96.00%\n",
      "Epoch 19/50, Loss: 0.08464, Accuracy: 98.00%\n",
      "Epoch 20/50, Loss: 0.08257, Accuracy: 97.00%\n",
      "Epoch 21/50, Loss: 0.13869, Accuracy: 97.00%\n",
      "Epoch 22/50, Loss: 0.41195, Accuracy: 88.00%\n",
      "Epoch 23/50, Loss: 0.24992, Accuracy: 90.00%\n",
      "Epoch 24/50, Loss: 0.11895, Accuracy: 96.00%\n",
      "Epoch 25/50, Loss: 0.07597, Accuracy: 97.00%\n",
      "Epoch 26/50, Loss: 0.04980, Accuracy: 98.00%\n",
      "Epoch 27/50, Loss: 0.03278, Accuracy: 98.00%\n",
      "Epoch 28/50, Loss: 0.02295, Accuracy: 99.00%\n",
      "Epoch 29/50, Loss: 0.03551, Accuracy: 100.00%\n",
      "Epoch 30/50, Loss: 0.06369, Accuracy: 98.00%\n",
      "Epoch 31/50, Loss: 0.11812, Accuracy: 94.00%\n",
      "Epoch 32/50, Loss: 0.04152, Accuracy: 98.00%\n",
      "Epoch 33/50, Loss: 0.02298, Accuracy: 99.00%\n",
      "Epoch 34/50, Loss: 0.01503, Accuracy: 100.00%\n",
      "Epoch 35/50, Loss: 0.01440, Accuracy: 100.00%\n",
      "Epoch 36/50, Loss: 0.01693, Accuracy: 100.00%\n",
      "Epoch 37/50, Loss: 0.00697, Accuracy: 100.00%\n",
      "Epoch 38/50, Loss: 0.00667, Accuracy: 100.00%\n",
      "Epoch 39/50, Loss: 0.01205, Accuracy: 100.00%\n",
      "Epoch 40/50, Loss: 0.03699, Accuracy: 98.00%\n",
      "Epoch 41/50, Loss: 0.01334, Accuracy: 100.00%\n",
      "Epoch 42/50, Loss: 0.00702, Accuracy: 100.00%\n",
      "Epoch 43/50, Loss: 0.00613, Accuracy: 100.00%\n",
      "Epoch 44/50, Loss: 0.00456, Accuracy: 100.00%\n",
      "Epoch 45/50, Loss: 0.00551, Accuracy: 100.00%\n",
      "Epoch 46/50, Loss: 0.01367, Accuracy: 100.00%\n",
      "Epoch 47/50, Loss: 0.00141, Accuracy: 100.00%\n",
      "Epoch 48/50, Loss: 0.00000, Accuracy: 100.00%\n",
      "Epoch 49/50, Loss: 0.00000, Accuracy: 100.00%\n",
      "Epoch 50/50, Loss: 0.00000, Accuracy: 100.00%\n"
     ]
    }
   ],
   "execution_count": 299
  },
  {
   "metadata": {
    "ExecuteTime": {
     "end_time": "2025-10-05T11:09:06.065168Z",
     "start_time": "2025-10-05T11:09:03.849027Z"
    }
   },
   "cell_type": "code",
   "source": [
    "# visualise decision boundary\n",
    "\n",
    "h = 0.25\n",
    "x_min, x_max = X[:, 0].min() - 1, X[:, 0].max() + 1\n",
    "y_min, y_max = X[:, 1].min() - 1, X[:, 1].max() + 1\n",
    "xx, yy = np.meshgrid(np.arange(x_min, x_max, h),\n",
    "                     np.arange(y_min, y_max, h))\n",
    "Xmesh = np.c_[xx.ravel(), yy.ravel()]\n",
    "inputs = [list(map(ValueNode, xrow)) for xrow in Xmesh]\n",
    "scores = list(map(mlp, inputs))\n",
    "Z = np.array([s.value > 0 for s in scores])\n",
    "Z = Z.reshape(xx.shape)\n",
    "\n",
    "fig = plt.figure();\n",
    "plt.contourf(xx, yy, Z, cmap=plt.cm.Spectral, alpha=0.8);\n",
    "plt.scatter(X[:, 0], X[:, 1], c=y, s=40, cmap=plt.cm.Spectral);\n",
    "plt.xlim(xx.min(), xx.max());\n",
    "plt.ylim(yy.min(), yy.max());\n",
    "\n",
    "plt.title('Decision Boundary for MLP', fontsize=20, fontweight='bold');\n",
    "plt.xlabel('x1', fontsize=15);\n",
    "plt.ylabel('x2', fontsize=15);\n"
   ],
   "id": "d34ff2df0bd18de8",
   "outputs": [
    {
     "data": {
      "text/plain": [
       "<Figure size 640x480 with 1 Axes>"
      ],
      "image/png": "[encoded data removed]"
     },
     "metadata": {},
     "output_type": "display_data"
    }
   ],
   "execution_count": 300
  },
  {
   "metadata": {},
   "cell_type": "markdown",
   "source": [
    "<div class=\"alert alert-block alert-success\">\n",
    "<b>Takeaway : Even without regularisation, this custom model performs nearly identically to micrograd/b> (convergence takes longer primarily due to lack of regularization). Benchmarking with Karpathy's Code and PyTorch and be checked out in the Benchmarking notebook.\n",
    "</div>"
   ],
   "id": "9a7e5ed4f26eecfc"
  }
 ],
 "metadata": {
  "kernelspec": {
   "display_name": "Python 3",
   "language": "python",
   "name": "python3"
  },
  "language_info": {
   "codemirror_mode": {
    "name": "ipython",
    "version": 2
   },
   "file_extension": ".py",
   "mimetype": "text/x-python",
   "name": "python",
   "nbconvert_exporter": "python",
   "pygments_lexer": "ipython2",
   "version": "2.7.6"
  }
 },
 "nbformat": 4,
 "nbformat_minor": 5
}
